{
  "cells": [
    {
      "cell_type": "markdown",
      "metadata": {
        "id": "view-in-github",
        "colab_type": "text"
      },
      "source": [
        "<a href=\"https://colab.research.google.com/github/Rafael-Barbosa/Mineracao-Dados/blob/main/Tipos_de_Dados%2C_Operadores_e_Mensagens_de_Erros.ipynb\" target=\"_parent\"><img src=\"https://colab.research.google.com/assets/colab-badge.svg\" alt=\"Open In Colab\"/></a>"
      ]
    },
    {
      "cell_type": "markdown",
      "metadata": {
        "id": "KbXwjHsjZqaE"
      },
      "source": [
        "# Tipos de dados, operadores aritméticos, modulos, pacotes, strings e mensagens de erro\n",
        "\n",
        "Nesta aula, nós veremos os seguintes tópicos:\n",
        "\n",
        "* Tipos de dados.\n",
        "* Operadores aritméticos.\n",
        "* Módulos e pacotes.\n",
        "* Manipulação de cadeias de caracteres (Strings).\n",
        "* Mensagens de erro."
      ]
    },
    {
      "cell_type": "markdown",
      "metadata": {
        "id": "0HeoxEbgZqaK"
      },
      "source": [
        "## Tipos de dados\n",
        "\n",
        "Em Python, temos os seguintes tipos de **dados nativos** (também chamados de **embutidos**, do Inglês **built-in**):\n",
        "\n",
        "|  Categoria |   Nome  |         Descrição        |\n",
        "|:----------:|:-------:|:------------------------:|\n",
        "|  Numérica  |   int   |         Inteiros         |\n",
        "|            |  float  |      Ponto flutuante     |\n",
        "|            | complex |      Número complexo     |\n",
        "|            |   bool  | Boolean (True ou false)  |\n",
        "| Sequencial |   str   |   String de caracteres   |\n",
        "|            |   list  |           Lista          |\n",
        "|            |  tuple  |           Tupla          |\n",
        "|            |  range  |   Intervalo de valores   |\n",
        "|  Conjunto  |   set   |     Conjunto             |\n",
        "|            | frozenset |       Conjunto imutável                 |\n",
        "| Mapeamento |   dict  |     Dicionário           |\n",
        "| Nula       | NoneType | Valor nulo |\n",
        "\n",
        "**OBS**.: Esses tipos de dados são chamados de **embutidos** pois são pré-definidos pela linguagem e estão sempre disponíveis em tempo de execução, sem a necessidade de se importar nenhuma biblioteca.\n",
        "\n",
        "Esses tipos de dados são **objetos** com métodos e atributos, pois em Python, tudo é objeto.\n",
        "\n",
        "Relembrando, em Python, as variáveis **NÃO**:\n",
        "\n",
        "* Precisam ser declaradas ou definidas com antecedência. \n",
        "    + Para criar uma variável, basta atribuir um valor a ela.\n",
        "* Podem ser utilizadas em uma expressão sem terem sido inicializadas.\n",
        "    + O interpretador precisa de uma atribuição de valor para inferir o tipo da variável.\n",
        "* São estáticas, como em outras linguagens de programação.\n",
        "    + Tipo da variável pode mudar dinamicamente.\n",
        "* Precisam ser destruídas explicitamente.\n",
        "    + O gerenciador de memória as deleta automaticamente quando não existem mais referências a elas.\n",
        "    \n",
        "Além disso, os tipos de dados em Python podem ser:\n",
        "\n",
        "+ **Mutáveis**: permitem que os conteúdos das variáveis sejam alterados.\n",
        "+ **Imutáveis**: não permitem que os conteúdos das variáveis sejam alterados.\n",
        "\n",
        "### Exemplos\n",
        "\n",
        "#### Tipagem dinâmica.\n",
        "\n",
        "**OBS**.: \n",
        "\n",
        "+ Nos próximos exemplos, usamos a **função embutida** `type()` para verificar o tipo das variáveis em tempo de execução.\n",
        "+ Usamos **caracteres de formatação** com a **função embutida** `print()`, onde por exemplo `%s` é substituído por uma string, `%d`, por um valor interiro e assim por diante. Vejam o exemplo abaixo:\n",
        "```python\n",
        "print('String: %s, Inteiro: %d, Float: %f' % (var_string, var_int, var_float))\n",
        "```"
      ]
    },
    {
      "cell_type": "code",
      "execution_count": null,
      "metadata": {
        "id": "oMy3PoyPZqaN",
        "outputId": "b8d55a5d-a1b4-44a9-b884-53ea6297ea21",
        "colab": {
          "base_uri": "https://localhost:8080/"
        }
      },
      "outputs": [
        {
          "output_type": "stream",
          "name": "stdout",
          "text": [
            "type(a): <class 'int'> - valor de a: 1\n",
            "type(a): <class 'str'> - valor de a: teste\n"
          ]
        }
      ],
      "source": [
        "# A variável 'a' recebe o valor inteiro 1.\n",
        "a = 1\n",
        "# OBS.: type() é uma função embutida que retorna o tipo de um objeto.\n",
        "print('type(a): %s - valor de a: %d' % (type(a), a))\n",
        "\n",
        "# Agora, a mesma variável 'a' recebe a string 'teste'.\n",
        "a = 'teste'\n",
        "print('type(a): %s - valor de a: %s' % (type(a), a))"
      ]
    },
    {
      "cell_type": "markdown",
      "metadata": {
        "id": "CzjWRCZFZqaQ"
      },
      "source": [
        "#### Uso sem inicialização da variável."
      ]
    },
    {
      "cell_type": "code",
      "execution_count": null,
      "metadata": {
        "id": "da8VSOYKZqaR"
      },
      "outputs": [],
      "source": [
        "# Tentando imprimir o valor da variável 'b', a qual não foi inicializada.\n",
        "#print('O valor de b é', b)"
      ]
    },
    {
      "cell_type": "markdown",
      "metadata": {
        "id": "Z9py1FL5ZqaR"
      },
      "source": [
        "#### Tipos imutáveis e mutáveis.\n",
        "\n",
        "Strings são objetos **imutáveis**, ou seja, são objetos apenas para leitura. \n",
        "\n",
        "Depois de instanciarmos um objeto do tipo String, não podemos alterar seu conteúdo, apenas lê-lo."
      ]
    },
    {
      "cell_type": "markdown",
      "metadata": {
        "id": "90vCr8NjZqaT"
      },
      "source": [
        "Listas são objetos **mutáveis**.\n",
        "\n",
        "Depois de instanciarmos um objeto do tipo Lista, podemos lê-lo e alterar seu conteúdo."
      ]
    },
    {
      "cell_type": "code",
      "execution_count": null,
      "metadata": {
        "id": "GhX2Xy8PZqaU",
        "outputId": "17db5602-ae8a-4599-97d1-34743f710c1c",
        "colab": {
          "base_uri": "https://localhost:8080/"
        }
      },
      "outputs": [
        {
          "output_type": "stream",
          "name": "stdout",
          "text": [
            "type(l): <class 'list'> - valor de l: ['c', 'a', 's', 'a']\n",
            "\n",
            "Conteúdo do primeiro elemento da lista: c\n",
            "\n",
            "type(l): <class 'list'> - valor de l: ['t', 'a', 's', 'a']\n"
          ]
        }
      ],
      "source": [
        "# Inicializando uma variável com um objeto do tipo lista.\n",
        "l = ['c','a','s','a']\n",
        "print('type(l): %s - valor de l: %s' % (type(l), l))\n",
        "\n",
        "# Podemos ler o conteúdo da string.\n",
        "print('\\nConteúdo do primeiro elemento da lista:', l[0])\n",
        "\n",
        "# Alterando um caracter de um objeto do tipo lista.\n",
        "l[0] = 't'\n",
        "print('\\ntype(l): %s - valor de l: %s' % (type(l), l))"
      ]
    },
    {
      "cell_type": "code",
      "execution_count": null,
      "metadata": {
        "id": "llNUBzzLZqaS",
        "outputId": "a064d166-1cde-4955-d80f-e2e00a9e7220",
        "colab": {
          "base_uri": "https://localhost:8080/",
          "height": 91
        }
      },
      "outputs": [
        {
          "output_type": "stream",
          "name": "stdout",
          "text": [
            "type(a): <class 'str'> - valor de a: casa\n",
            "\n",
            "Conteúdo do primeiro elemento da string: c\n"
          ]
        },
        {
          "output_type": "execute_result",
          "data": {
            "text/plain": [
              "'Tasa'"
            ],
            "application/vnd.google.colaboratory.intrinsic+json": {
              "type": "string"
            }
          },
          "metadata": {},
          "execution_count": 25
        }
      ],
      "source": [
        "# Inicializando uma variável com um objeto do tipo string.\n",
        "a = 'casa'\n",
        "print('type(a): %s - valor de a: %s' % (type(a), a))\n",
        "\n",
        "# Podemos ler o conteúdo da string.\n",
        "print('\\nConteúdo do primeiro elemento da string:', a[0])\n",
        "\n",
        "# Tentando alterar um caracter de um objeto do tipo string.\n",
        "a = list(a)\n",
        "\n",
        "a[0] = 'T'\n",
        "\n",
        "a = ''.join(a)\n",
        "\n",
        "a"
      ]
    },
    {
      "cell_type": "markdown",
      "metadata": {
        "id": "G90mg87ZZqaV"
      },
      "source": [
        "## Operadores Aritméticos\n",
        "\n",
        "Em Python, temos os seguintes operadores aritméticos:\n",
        "\n",
        "| Operador |       Nome      |  Exemplo | Resultado | Comentário          |\n",
        "|:--------:|:---------------:|:--------:|:---------:|:-------------------:|\n",
        "|     +    |      Adição     |   1 + 1  |     2     | retorna a soma de dois valores                    |\n",
        "|     -    |    Subtração    |   2 - 1  |     1     | retorna a subtração de dois valores                    |\n",
        "|     *    |  Multiplicação  |   2 * 2  |     4     | retorna a multiplicação de dois valores                     |\n",
        "|     /    |     Divisão     |  100 / 4 |    25.0   | retorna a divisão em ponto flutuante de dois valores | \n",
        "|    **    |  Exponenciação  |  2 ** 3  |     8     | retorna o resultado de número elevado à potência do outro                    |\n",
        "|    //    | Divisão inteira | 5 // 3 |     1    | retorna apenas a parte inteira (quociente) da divisão entre dois valores                    |\n",
        "|     %    |      Módulo     |   5 % 3  |     2     | retorna o resto da divisão entre dois valores                    |\n",
        "\n",
        "\n",
        "### Ordem de precedência dos  operadores\n",
        "\n",
        "* A tabela a seguir apresenta a ordem de precedência dos operadores aritméticos, **da mais alta para a mais baixa**.\n",
        "* Esta tabela será atualizada quando aprendermos outros operadores.\n",
        "\n",
        "|   Precedência   |           Categoria           |  Operadores |               Comentário              |\n",
        "|:---------:|:-----------------------------:|:-----------:|:-------------------------------------:|\n",
        "|  4 (alta) |           parênteses          |      ()     |                                       |\n",
        "|     3     |            expoente           |      **     |                                       |\n",
        "|     2     | multiplicação, divisão, resto | *, /, //, % | Aplicados da esquerda para a direita na ordem em que aparecem na expressão. |\n",
        "| 1 (baixa) |       adição, subtração       |     +, -    | Aplicados da esquerda para a direita na ordem em que aparecem na expressão. |\n",
        "\n",
        "**IMPORTANTE**: Operadores com mesmo nível de precedência são aplicados da **esquerda para a direita** na ordem em que aparecem na expressão.\n",
        "\n",
        "### Exemplos"
      ]
    },
    {
      "cell_type": "code",
      "execution_count": null,
      "metadata": {
        "id": "u4wIQ1paZqaV",
        "outputId": "97f0bae7-0de7-46e9-8c91-7bd2a95c42bc",
        "colab": {
          "base_uri": "https://localhost:8080/"
        }
      },
      "outputs": [
        {
          "output_type": "stream",
          "name": "stdout",
          "text": [
            "O resultado é: 2\n"
          ]
        }
      ],
      "source": [
        "# A multiplicação tem ordem de precedência maior do que a subtração.\n",
        "a = 10 - 4 * 2\n",
        "\n",
        "print('O resultado é:', a)"
      ]
    },
    {
      "cell_type": "code",
      "execution_count": null,
      "metadata": {
        "id": "G5uevBi_ZqaV",
        "outputId": "7980fe0b-cfc2-4533-cc13-ff07581d6ef4",
        "colab": {
          "base_uri": "https://localhost:8080/"
        }
      },
      "outputs": [
        {
          "output_type": "stream",
          "name": "stdout",
          "text": [
            "O resultado é: 12\n"
          ]
        }
      ],
      "source": [
        "# Os parênteses têm a mais alta ordem de precedência.\n",
        "a = (10 - 4) * 2\n",
        "\n",
        "print('O resultado é:', a)"
      ]
    },
    {
      "cell_type": "code",
      "execution_count": null,
      "metadata": {
        "id": "lkmYwMw-ZqaW",
        "outputId": "9ba920c4-7df4-4581-afbd-562a0dcbbb71",
        "colab": {
          "base_uri": "https://localhost:8080/"
        }
      },
      "outputs": [
        {
          "output_type": "stream",
          "name": "stdout",
          "text": [
            "O resultado é: 1.0\n"
          ]
        }
      ],
      "source": [
        "# Operadores com mesma ordem precedência são aplicados da esquerda para a direita conforme aparecem na expressão.\n",
        "a = 5 // 2 * 4 / 8\n",
        "\n",
        "print('O resultado é:', a)"
      ]
    },
    {
      "cell_type": "markdown",
      "metadata": {
        "id": "rznG6rrdZqaW"
      },
      "source": [
        "## Módulos e pacotes\n",
        "\n",
        "### Módulos\n",
        "\n",
        "* Em Python, um **módulo nada mais é do que um arquivo** que contém o código que implementa **funcionalidades específicas e relacionadas**.\n",
        "    + Um módulo pode conter um conjunto de funções, classes, variáveis, etc.\n",
        "    + Por exemplo, em um jogo de vídeo game, um módulo de som é responsável pelo processamento de audio e outro módulo, imagem, pelo processamento de imagens.\n",
        "* Cada módulo é um arquivo diferente, que pode ser editado separadamente.\n",
        "* Módulos são arquivos com extensão `.py`.\n",
        "* Para usarmos as funcionalidades contidas em um módulo, nós o importamos.\n",
        "* Para importar, usamos o nome do módulo.\n",
        "* O nome do módulo é o **nome do arquivo sem a extensão `.py`**.\n",
        "    + Por exemplo, o arquivo `processamento.py` é um módulo, cujo nome é  `processamento`."
      ]
    },
    {
      "cell_type": "markdown",
      "metadata": {
        "id": "V-ZZgyZZZqaW"
      },
      "source": [
        "* Os módulos são importados usando-se a **palavra reservada** `import`.\n",
        "```python\n",
        "import processamento\n",
        "processamento.playVideo()\n",
        "```\n",
        "\n",
        "* Para deixar o código mais conciso, podemos criar um **apelido** ao importar um módulo, usando a **palavra reservada** `as`.\n",
        "```python\n",
        "import processamento as p\n",
        "p.playVideo()\n",
        "```\n",
        "\n",
        "* Podemos também optar por importar apenas partes de um módulo (por exemplo, apenas uma função), usando a **palavra reservada** `from`.\n",
        "```python\n",
        "from processamento import playVideo\n",
        "playVideo()\n",
        "```\n",
        "\n",
        "* Podemos importar mais de uma parte do módulo usando vírgulas.\n",
        "```python\n",
        "from processamento import playVideo, playAudio\n",
        "playVideo()\n",
        "playAudio()\n",
        "```"
      ]
    },
    {
      "cell_type": "markdown",
      "metadata": {
        "id": "uVEQCguuZqaX"
      },
      "source": [
        "### Pacotes\n",
        "\n",
        "* Pacotes são simplesmente **diretórios** onde podemos ter módulos e/ou pacotes.\n",
        "* São usados para estruturar o código.\n",
        "* Pacotes podem conter outros pacotes e módulos.\n",
        "* O nome de um pacote é o nome do diretório contendo módulos ou outros pacotes.\n",
        "* Pacotes são importados da mesma maneira que módulos, ou seja, usando a **palavra reservada** `import`.\n",
        "\n",
        "**Exemplo**\n",
        "\n",
        "<img src=\"https://github.com/zz4fap/python-programming/blob/master/figures/modulos_e_pacotes.png?raw=1\" width=\"500px\">"
      ]
    },
    {
      "cell_type": "markdown",
      "metadata": {
        "id": "EJpb0wGUZqaX"
      },
      "source": [
        "#### Exemplos\n",
        "\n",
        "#### Importando um módulo já existente.\n",
        "\n",
        "+ O módulo `math` é um módulo que contém a implementação de várias funções matemáticas como raíz quadrada, logaritmo, seno, cosseno, etc.\n",
        "+ Para saber mais sobre as várias funções implementadas pelo módulo, acesse: https://docs.python.org/3/library/math.html"
      ]
    },
    {
      "cell_type": "code",
      "execution_count": null,
      "metadata": {
        "id": "aaAiq3PEZqaX",
        "outputId": "ff007fe4-96e1-4612-ef56-e96bdb1d5164",
        "colab": {
          "base_uri": "https://localhost:8080/"
        }
      },
      "outputs": [
        {
          "output_type": "stream",
          "name": "stdout",
          "text": [
            "O resultado da raíz quadrada é: 5.0\n",
            "O resultado da raíz quadrada é: 7.0\n",
            "O resultado da raíz quadrada é: 10.0\n"
          ]
        }
      ],
      "source": [
        "# Importa todo o conteúdo do módulo math.\n",
        "import math \n",
        "\n",
        "# Executa a função sqrt(), que é parte do módulo math.\n",
        "# Precisamos sempre especificar o caminho até a função.\n",
        "print('O resultado da raíz quadrada é:', math.sqrt(25))\n",
        "\n",
        "# Criando um apelido para o módulo math.\n",
        "import math as m\n",
        "print('O resultado da raíz quadrada é:', m.sqrt(49))\n",
        "\n",
        "# Importando apenas a função sqrt() do módulo math.\n",
        "from math import sqrt\n",
        "print('O resultado da raíz quadrada é:', sqrt(100))"
      ]
    },
    {
      "cell_type": "markdown",
      "metadata": {
        "id": "bRqljFl5ZqaY"
      },
      "source": [
        "#### Criando e importanto meu próprio módulo.\n",
        "\n",
        "+ Vamos criar um módulo, ou seja, um arquivo, chamado `meu_modulo.py`.\n",
        "+ Este módulo deve conter uma função chamada `soma`, a qual recebe dois valores de entrada e retorna a soma deles.\n",
        "\n",
        "**OBS**.: O arquivo contendo as funcionalidades do módulo deve ter a extensão `.py`."
      ]
    },
    {
      "cell_type": "code",
      "execution_count": null,
      "metadata": {
        "id": "LRfJNyYSZqaY",
        "outputId": "8adf33ea-2bdb-4bd9-bcaa-70d3c92a4204",
        "colab": {
          "base_uri": "https://localhost:8080/",
          "height": 393
        }
      },
      "outputs": [
        {
          "output_type": "error",
          "ename": "ModuleNotFoundError",
          "evalue": "ignored",
          "traceback": [
            "\u001b[0;31m---------------------------------------------------------------------------\u001b[0m",
            "\u001b[0;31mModuleNotFoundError\u001b[0m                       Traceback (most recent call last)",
            "\u001b[0;32m<ipython-input-30-b8169f0d5a0c>\u001b[0m in \u001b[0;36m<module>\u001b[0;34m\u001b[0m\n\u001b[0;32m----> 1\u001b[0;31m \u001b[0;32mimport\u001b[0m \u001b[0mmeu_modulo\u001b[0m\u001b[0;34m\u001b[0m\u001b[0;34m\u001b[0m\u001b[0m\n\u001b[0m\u001b[1;32m      2\u001b[0m \u001b[0;34m\u001b[0m\u001b[0m\n\u001b[1;32m      3\u001b[0m \u001b[0mprint\u001b[0m\u001b[0;34m(\u001b[0m\u001b[0;34m'Resultado:'\u001b[0m\u001b[0;34m,\u001b[0m \u001b[0mmeu_modulo\u001b[0m\u001b[0;34m.\u001b[0m\u001b[0msoma\u001b[0m\u001b[0;34m(\u001b[0m\u001b[0;36m1\u001b[0m\u001b[0;34m,\u001b[0m\u001b[0;36m1\u001b[0m\u001b[0;34m)\u001b[0m\u001b[0;34m)\u001b[0m\u001b[0;34m\u001b[0m\u001b[0;34m\u001b[0m\u001b[0m\n\u001b[1;32m      4\u001b[0m \u001b[0;34m\u001b[0m\u001b[0m\n\u001b[1;32m      5\u001b[0m \u001b[0;32mimport\u001b[0m \u001b[0mmeu_modulo\u001b[0m \u001b[0;32mas\u001b[0m \u001b[0mmm\u001b[0m\u001b[0;34m\u001b[0m\u001b[0;34m\u001b[0m\u001b[0m\n",
            "\u001b[0;31mModuleNotFoundError\u001b[0m: No module named 'meu_modulo'",
            "",
            "\u001b[0;31m---------------------------------------------------------------------------\u001b[0;32m\nNOTE: If your import is failing due to a missing package, you can\nmanually install dependencies using either !pip or !apt.\n\nTo view examples of installing some common dependencies, click the\n\"Open Examples\" button below.\n\u001b[0;31m---------------------------------------------------------------------------\u001b[0m\n"
          ],
          "errorDetails": {
            "actions": [
              {
                "action": "open_url",
                "actionText": "Open Examples",
                "url": "/notebooks/snippets/importing_libraries.ipynb"
              }
            ]
          }
        }
      ],
      "source": [
        "#Você precisa criar um arquivo.py com as operações.\n",
        "import meu_modulo\n",
        "\n",
        "print('Resultado:', meu_modulo.soma(1,1))\n",
        "\n",
        "import meu_modulo as mm\n",
        "\n",
        "print('Resultado:', mm.soma(1,2))\n",
        "\n",
        "from meu_modulo import soma\n",
        "\n",
        "print('Resultado:', soma(2,2))"
      ]
    },
    {
      "cell_type": "markdown",
      "metadata": {
        "id": "Ayjj0BHrZqaZ"
      },
      "source": [
        "#### Criando e importanto módulos do meu próprio pacote.\n",
        "\n",
        "+ Vamos criar um pacote ou seja, um diretório, chamado `meu_pacote`.\n",
        "+ Este pacote deve conter dois arquivos, chamados `moduloA.py` e `moduloB.py`, os quais contêm as funcionalidades dos módulos `moduloA` e `moduloB`.\n",
        "+ O `móduloA` contém uma função chamada `multiplicação`, que recebe dois valores de entrada e retorna o produto entre eles.\n",
        "+ O `móduloB` contém uma função chamada `subtração`, que recebe dois valores de entrada e retorna a diferença entre eles."
      ]
    },
    {
      "cell_type": "code",
      "execution_count": null,
      "metadata": {
        "id": "hmR-rYEBZqaa"
      },
      "outputs": [],
      "source": [
        "import meu_pacote.moduloA\n",
        "\n",
        "print('Resultado:', meu_pacote.moduloA.multiplicação(2,2))\n",
        "\n",
        "import meu_pacote.moduloA as ma\n",
        "\n",
        "print('Resultado:', ma.multiplicação(2,3))\n",
        "\n",
        "from meu_pacote.moduloA import multiplicação\n",
        "\n",
        "print('Resultado:', ma.multiplicação(3,3))\n",
        "\n",
        "import meu_pacote.moduloB as mb\n",
        "\n",
        "print('Resultado:', mb.subtração(2,2))"
      ]
    },
    {
      "cell_type": "markdown",
      "metadata": {
        "id": "EccAXgCrZqab"
      },
      "source": [
        "## Manipulação de cadeias de caracteres (strings)\n",
        "\n",
        "* Strings são sequências de caracteres.\n",
        "* Em Python, strings são cercadas por **aspas simples** ou **aspas duplas**.\n",
        "* O Python não possui um tipo de dados de caractere. \n",
        "    + Um único caractere é simplesmente uma string com o comprimento igual a 1.\n",
        "* Em Python, uma string é representada pelo tipo (ou classe) `str`.\n",
        "* Strings são tipos de dados imutáveis.\n",
        "    \n",
        "### Exemplos\n",
        "\n",
        "#### Strings são cercadas por aspas simples ou duplas."
      ]
    },
    {
      "cell_type": "code",
      "execution_count": null,
      "metadata": {
        "id": "bPN9jKJ2Zqab"
      },
      "outputs": [],
      "source": [
        "# As duas formas são equivalentes.\n",
        "print(\"Olá\")\n",
        "print('Olá')"
      ]
    },
    {
      "cell_type": "markdown",
      "metadata": {
        "id": "_KuaFObCZqab"
      },
      "source": [
        "#### Python não possui um tipo char."
      ]
    },
    {
      "cell_type": "code",
      "execution_count": null,
      "metadata": {
        "id": "OEXRkzyKZqac"
      },
      "outputs": [],
      "source": [
        "var1 = 'a'\n",
        "print('type(var1):', type(var1))\n",
        "\n",
        "var2 = \"b\"\n",
        "print('type(var2):', type(var2))\n",
        "\n",
        "var3 = 'Unimater'\n",
        "print('type(var3):', type(var3))"
      ]
    },
    {
      "cell_type": "markdown",
      "metadata": {
        "id": "daMRrBxuZqac"
      },
      "source": [
        "#### Strings são imutáveis!"
      ]
    },
    {
      "cell_type": "code",
      "execution_count": null,
      "metadata": {
        "id": "_Xzl9wchZqac"
      },
      "outputs": [],
      "source": [
        "string = 'Olá'\n",
        "\n",
        "# Tentando alterar o caracter da primeira posição.\n",
        "string[0] = 'b'"
      ]
    },
    {
      "cell_type": "markdown",
      "metadata": {
        "id": "bPz3mNEoZqac"
      },
      "source": [
        "#### Strings com múltiplas linhas.\n",
        "\n",
        "**OBS**.: Podemos usar aspas simples ou duplas para criar strings com múltiplas linhas."
      ]
    },
    {
      "cell_type": "code",
      "execution_count": null,
      "metadata": {
        "id": "0ScI3L2oZqad"
      },
      "outputs": [],
      "source": [
        "a = \"\"\"Lorem ipsum dolor sit amet,\n",
        "consectetur adipiscing elit,\n",
        "sed do eiusmod tempor incididunt\n",
        "ut labore et dolore magna aliqua.\"\"\"\n",
        "\n",
        "print(a)"
      ]
    },
    {
      "cell_type": "code",
      "execution_count": null,
      "metadata": {
        "id": "qQzxwBESZqad"
      },
      "outputs": [],
      "source": [
        "a = '''Lorem ipsum dolor sit amet,\n",
        "consectetur adipiscing elit,\n",
        "sed do eiusmod tempor incididunt\n",
        "ut labore et dolore magna aliqua.'''\n",
        "\n",
        "print(a)"
      ]
    },
    {
      "cell_type": "markdown",
      "metadata": {
        "id": "nL0SJppxZqad"
      },
      "source": [
        "#### Strings podem ser concatenadas com o sinal +."
      ]
    },
    {
      "cell_type": "code",
      "execution_count": null,
      "metadata": {
        "id": "8SRlWtDKZqad"
      },
      "outputs": [],
      "source": [
        "str1 = \"C126\"\n",
        "str2 = \" - \"\n",
        "str3 = \"Programação em Python\"\n",
        "\n",
        "str4 = str1 + str2 + str3\n",
        "\n",
        "# Imprimindo o resultado da concatenação.\n",
        "print(str4)"
      ]
    },
    {
      "cell_type": "markdown",
      "metadata": {
        "id": "sbE4OPf_Zqae"
      },
      "source": [
        "#### Quando concatenamos uma string com um número, precisamos fazer uma conversão explícita.\n",
        "\n",
        "**OBS**.: \n",
        "\n",
        "+ Lembrem-se que Python é uma linguagem **fortemente tipada** e que conversões entre tipos precisam ser explícitas.\n",
        "+ A **função embutida** `str()` converte um número em string."
      ]
    },
    {
      "cell_type": "code",
      "execution_count": null,
      "metadata": {
        "id": "B5rw-Y8BZqae"
      },
      "outputs": [],
      "source": [
        "# A função embutida `str()` converte um número em string. \n",
        "str1 = \"O valor de pi é aproximadamente \" + str(3.14)\n",
        "\n",
        "# Imprimindo o resultado da concatenação.\n",
        "print(str1)"
      ]
    },
    {
      "cell_type": "markdown",
      "metadata": {
        "id": "MNOcx_mjZqaf"
      },
      "source": [
        "#### Funções e métodos mais usados da classe string\n",
        "\n",
        "|   Função  |  Tipo  |                               Descrição                               |\n",
        "|:---------:|:------:|:---------------------------------------------------------------------:|\n",
        "|   len()   | função |           retorna o tamanho da string em número de caracteres.          |\n",
        "|   str()   | função |                           converte o objeto em string.                          |\n",
        "|  lower()  | método |              transforma toda a string para caixa baixa.               |\n",
        "|  upper()  | método |              transforma toda a string para caixa alta.              |\n",
        "| isalpha() | método |retorna True se a string contiver apenas caracteres que representam letras, caso contrário retorna False.|\n",
        "| isdigit() | método |retorna True se a string contiver apenas caracteres que representam números, caso contrário, retorna False.|\n",
        "|  strip()  | método |     remove os espaços em branco do começo e do final da string.      |\n",
        "| replace() | método |                substitui uma string por outra string.                |\n",
        "|  split()  | método |divide a string em substrings se encontrar ocorrências do separador. |\n",
        "\n",
        "### Exemplos\n",
        "\n",
        "Alguns exemplos de uso desses métodos seguem abaixo."
      ]
    },
    {
      "cell_type": "code",
      "execution_count": null,
      "metadata": {
        "id": "AelbTs5QZqaf"
      },
      "outputs": [],
      "source": [
        "print('Comprimento da string:', len(\"Unimater\"))\n",
        "\n",
        "print(\"Pi:\", str(3.1415))\n",
        "\n",
        "print(\"Caixa baixa:\", \"UNIMATER\".lower())\n",
        "\n",
        "string = \"Unimater\"\n",
        "print(\"Caixa alta:\", string.upper())\n",
        "\n",
        "print(\"A string contém apenas letras?\", \"ws34rt\".isalpha())"
      ]
    },
    {
      "cell_type": "code",
      "execution_count": null,
      "metadata": {
        "id": "cxfopRJqZqaf"
      },
      "outputs": [],
      "source": [
        "print(\"A string contém apenas números?\", \"7000\".isdigit())\n",
        "\n",
        "print(\"   remove todos espaços em branco.    \".strip())\n",
        "\n",
        "print(\"UNIMATER\".replace('TER','teste'))\n",
        "\n",
        "print(\"Olá, Mundo! 1, 2, 3\".split(\",\"))"
      ]
    },
    {
      "cell_type": "markdown",
      "metadata": {
        "id": "r2iIDgTAZqag"
      },
      "source": [
        "**OBS**.: Percebam que o método `split()` retorna uma lista onde cada elemento é uma das substrings criadas."
      ]
    },
    {
      "cell_type": "markdown",
      "metadata": {
        "id": "fbMKCC2kZqag"
      },
      "source": [
        "#### Acessando elementos de uma string através de seus índices\n",
        "\n",
        "Nós podemos indexar strings e assim acessar cada um de seus caracteres (ou elementos).\n",
        "\n",
        "**OBS**.: Os índices de uma string começam sempre de zero."
      ]
    },
    {
      "cell_type": "code",
      "execution_count": null,
      "metadata": {
        "id": "q9viorRAZqag"
      },
      "outputs": [],
      "source": [
        "# Atribuindo a string 'python' à variável 'str1'.\n",
        "str1 = 'python'\n",
        "\n",
        "'''\n",
        "Como a string é uma sequência de caracteres, \n",
        "cada um dos índices nos dá acesso a um caracter da sequência.\n",
        "+---+---+---+---+---+---+\n",
        "| p | y | t | h | o | n |\n",
        "+---+---+---+---+---+---+\n",
        "  0   1   2   3   4   5\n",
        "'''\n",
        "\n",
        "print(str1[0])\n",
        "print(str1[1])\n",
        "print(str1[2])\n",
        "print(str1[3])\n",
        "print(str1[4])\n",
        "print(str1[5])"
      ]
    },
    {
      "cell_type": "markdown",
      "metadata": {
        "id": "cHp-UDipZqag"
      },
      "source": [
        "#### Podemos acessar o último caractere de uma string com a função `len()`.\n",
        "\n",
        "**OBS**.: Usando a função `len()`, não precisamos saber exatamente qual é o índice correspondente ao último caractere."
      ]
    },
    {
      "cell_type": "code",
      "execution_count": null,
      "metadata": {
        "id": "WeSF6abJZqag"
      },
      "outputs": [],
      "source": [
        "str1 = 'python'\n",
        "\n",
        "print('Tamanho da string:', len(str1))\n",
        "\n",
        "print('Acessando o último caractere com seu índice:', str1[5])\n",
        "print('Acessando o último caractere com a função len:', str1[len(str1)-1])"
      ]
    },
    {
      "cell_type": "markdown",
      "metadata": {
        "id": "BS3SL9ElZqah"
      },
      "source": [
        "#### Fatiando strings\n",
        "\n",
        "+ Nós podemos retornar um intervalo de caracteres usando a sintaxe de fatiamento de strings.\n",
        "+ Para isso, basta especificar o **índice inicial e o índice final, separados por dois pontos (`:`), do intervalo** para retornar uma parte, ou seja, uma fatia, da string.\n",
        "+ A sintaxe para criação de substrings é mostrada abaixo.\n",
        "\n",
        "```python\n",
        "sub_string = string[intervalo_inicial : intervalo_final]\n",
        "```\n",
        "\n",
        "**OBS**.:\n",
        "\n",
        "* O intervalo não é fechado no índice final da fatia, ou seja, o caracter correspondente a esse índice não será incluído na fatia."
      ]
    },
    {
      "cell_type": "code",
      "execution_count": null,
      "metadata": {
        "id": "omS5nojEZqah"
      },
      "outputs": [],
      "source": [
        "# Atribuindo a string 'Olá, Mundo' à variável str1.\n",
        "str1 = \"Olá, Mundo!\"\n",
        "\n",
        "# Fatia os caracteres da posição 5 até a posição 10 (não incluso).\n",
        "# OBS.: O intervalo final da fatia não é fechado, portanto, o índice 10 não é incluso na fatia.\n",
        "fatia = str1[5:10]\n",
        "\n",
        "print(fatia)"
      ]
    },
    {
      "cell_type": "markdown",
      "metadata": {
        "id": "B-0bCFcTZqah"
      },
      "source": [
        "Podemos criar uma fatia desde um índice qualquer até o último caractere de uma string usando a função `len()`."
      ]
    },
    {
      "cell_type": "code",
      "execution_count": null,
      "metadata": {
        "id": "n5lI5kxhZqah"
      },
      "outputs": [],
      "source": [
        "str2 = 'UNIMATER'\n",
        "\n",
        "# Como o intervalo final da fatia não é fechado, precisamos sempre passar o índice final desejado mais 1.\n",
        "fatia = str2[3:len(str2)]\n",
        "\n",
        "print(fatia)"
      ]
    },
    {
      "cell_type": "markdown",
      "metadata": {
        "id": "1U-qW3xAZqah"
      },
      "source": [
        "Outra forma de fazermos o mesmo feito no exemplo anterior é simplemente omitir o valor do índice final."
      ]
    },
    {
      "cell_type": "code",
      "execution_count": null,
      "metadata": {
        "id": "j6QNjeqnZqah"
      },
      "outputs": [],
      "source": [
        "str2 = 'UNIMATER'\n",
        "\n",
        "fatia = str2[3:]\n",
        "\n",
        "print(fatia)"
      ]
    },
    {
      "cell_type": "markdown",
      "metadata": {
        "id": "lLitbVKXZqai"
      },
      "source": [
        "## Mensagens de erro\n",
        "\n",
        "Ao tentar interpretar o código que escrevemos, o interpretador Python avisa quando alguma instrução não foi compreendida através de mensagens de erro. \n",
        "\n",
        "Na sequência, discutimos os três tipos mais comuns de erro em Python: `SyntaxError`, `IndentationError`, e `NameError`.\n",
        "\n",
        "**IMPORTANTE: Leiam as mensagens de erro com calma para saber onde está o erro de sua implementação.**\n",
        "\n",
        "### Os erros mais frequentes em Python são:\n",
        "\n",
        "* **SyntaxError**: erros de sintaxe. \n",
        "    + Esses erros significam que alguma **palavra reservada foi escrita incorretamente** ou que algum **símbolo foi esquecido** (por exemplo, os dois pontos `:` ao final da definição de uma função).\n",
        "    \n",
        "#### Exemplo"
      ]
    },
    {
      "cell_type": "code",
      "execution_count": null,
      "metadata": {
        "id": "lcnNZKi-Zqai"
      },
      "outputs": [],
      "source": [
        "# Estão faltando os dois pontos (:) no cabeçalho da função.\n",
        "def mult(x,y)\n",
        "   return x*y"
      ]
    },
    {
      "cell_type": "markdown",
      "metadata": {
        "id": "2PugKSqOZqai"
      },
      "source": [
        "**OBS**.: Percebam que a mensagem de erro sempre terá um indicador (`^` ou `--->`) apontando onde o interpretador encontrou o erro."
      ]
    },
    {
      "cell_type": "markdown",
      "metadata": {
        "id": "4No4VL4aZqai"
      },
      "source": [
        "* **IndentationError**: erros de indentação.\n",
        "    + Esses erros significam que alguma linha está com a indentação (recuo) incorreta.\n",
        "    \n",
        "#### Exemplo"
      ]
    },
    {
      "cell_type": "code",
      "execution_count": null,
      "metadata": {
        "id": "IRo9BxFuZqai"
      },
      "outputs": [],
      "source": [
        "# As instruções que fazem parte do corpo da função não têm a indentação (ou recuo) correta\n",
        "# para que o interpretador entenda que elas fazem parte da função.\n",
        "def mult(x,y):\n",
        "a = x*y\n",
        "return a"
      ]
    },
    {
      "cell_type": "markdown",
      "metadata": {
        "id": "aLYEM0hOZqaj"
      },
      "source": [
        "* **NameError**: erros de nome.\n",
        "    + Esses erros significam que algum nome (por exemplo, variável, nome de função, classe, etc.) foi usado sem ter sido definido anteriormente. \n",
        "    + Esse tipo de erro ocorre, por exemplo, \n",
        "        * ao chamarmos uma **função que ainda não foi definida**, \n",
        "        * ou quando acessamos uma **variável que não teve valor atribuído a ela**.\n",
        "    \n",
        "#### Exemplos"
      ]
    },
    {
      "cell_type": "code",
      "execution_count": null,
      "metadata": {
        "id": "VksFIhqHZqaj"
      },
      "outputs": [],
      "source": [
        "# A função bar não foi definida anteriormente.\n",
        "bar(x,y)"
      ]
    },
    {
      "cell_type": "code",
      "execution_count": null,
      "metadata": {
        "id": "ikfOyMsoZqaj"
      },
      "outputs": [],
      "source": [
        "# A variável 'variável' não teve nenhum valor atribuído a ela anteriormente.\n",
        "print('O valor da variável é:', variável)"
      ]
    }
  ],
  "metadata": {
    "kernelspec": {
      "display_name": "Python 3 (ipykernel)",
      "language": "python",
      "name": "python3"
    },
    "language_info": {
      "codemirror_mode": {
        "name": "ipython",
        "version": 3
      },
      "file_extension": ".py",
      "mimetype": "text/x-python",
      "name": "python",
      "nbconvert_exporter": "python",
      "pygments_lexer": "ipython3",
      "version": "3.9.13"
    },
    "colab": {
      "provenance": [],
      "include_colab_link": true
    }
  },
  "nbformat": 4,
  "nbformat_minor": 0
}