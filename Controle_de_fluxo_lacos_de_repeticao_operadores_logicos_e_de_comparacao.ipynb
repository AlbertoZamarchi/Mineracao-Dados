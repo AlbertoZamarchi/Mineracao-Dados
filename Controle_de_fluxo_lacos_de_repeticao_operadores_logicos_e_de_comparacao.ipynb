{
  "cells": [
    {
      "cell_type": "markdown",
      "metadata": {
        "id": "view-in-github",
        "colab_type": "text"
      },
      "source": [
        "<a href=\"https://colab.research.google.com/github/Rafael-Barbosa/Mineracao-Dados/blob/main/Controle_de_fluxo_lacos_de_repeticao_operadores_logicos_e_de_comparacao.ipynb\" target=\"_parent\"><img src=\"https://colab.research.google.com/assets/colab-badge.svg\" alt=\"Open In Colab\"/></a>"
      ]
    },
    {
      "cell_type": "markdown",
      "metadata": {
        "id": "lZKI_l97w9qn"
      },
      "source": [
        "# Operadores de comparação, lógicos, controle de fluxo e laços de repetição"
      ]
    },
    {
      "cell_type": "markdown",
      "metadata": {
        "id": "TWo9syTDw9qr"
      },
      "source": [
        "Nesta aula, nós veremos os seguintes tópicos:\n",
        "\n",
        "* Operadores relacionais\n",
        "* Operadores lógicos\n",
        "* Operadores de associação\n",
        "* Controle de fluxo \n",
        "* Laços de repetição"
      ]
    },
    {
      "cell_type": "markdown",
      "metadata": {
        "id": "9JUCRKTFw9qs"
      },
      "source": [
        "## Operadores de comparação\n",
        "\n",
        "* O Python permite **comparar dois valores** usando os **operadores relacionais** ou também chamados de **operadores de comparação**.\n",
        "* Os **operadores relacionais** sempre comparam **dois** valores e o **resultado é sempre do tipo booleano**, ou seja, pode assumir apenas os valores ```True``` ou ```False```.\n",
        "* Todos os operadores relacionais têm o **mesmo nível de precedência**, ou seja, são aplicados da esquerda para a direita na ordem em que aparecem em uma expressão.\n",
        "\n",
        "| Operador |    Tipo    |                      Descrição                     | Exemplo | Resultado |\n",
        "|:--------:|:----------:|:--------------------------------------------------:|:-------:|:---------:|\n",
        "|    ==    |  Igualdade |    Verifica a igualdade entre os valores A e B.    |   2==3  |   False   |\n",
        "|   !=     |  Igualdade |  Verifica a desigualdade entre os valores A e B.   |   2!=3  |    True   |\n",
        "|    >     | Comparação |    Verifica se o valor A é maior que o valor B.   |   3>3   |   False   |\n",
        "|    <     | Comparação |    Verifica se o valor A é menor que o valor B.    |   2<3   |    True   |\n",
        "|    >=    | Comparação | Verifica se o valor A é maior ou igual ao valor B. |   3>=3  |    True   |\n",
        "|    <=    | Comparação | Verifica se o valor A é menor ou igual ao valor B. |   2<=1  |   False   |\n",
        "\n",
        "### Exemplos\n",
        "\n",
        "Algumas comparações."
      ]
    },
    {
      "cell_type": "code",
      "execution_count": 1,
      "metadata": {
        "id": "ivFrBupow9qs",
        "outputId": "64916c1f-6711-40cd-ee80-8abd428c49bc",
        "colab": {
          "base_uri": "https://localhost:8080/"
        }
      },
      "outputs": [
        {
          "output_type": "stream",
          "name": "stdout",
          "text": [
            "Resultado de 2 > 3: False\n",
            "Resultado de 5 <= 5: True\n",
            "Resultado de 1 != 2: True\n"
          ]
        }
      ],
      "source": [
        "print('Resultado de 2 > 3:', 2 > 3)\n",
        "\n",
        "print('Resultado de 5 <= 5:', 5 <= 5)\n",
        "\n",
        "print('Resultado de 1 != 2:', 1 != 2)"
      ]
    },
    {
      "cell_type": "markdown",
      "metadata": {
        "id": "fLR53ywaw9qv"
      },
      "source": [
        "As expressões relacionais **podem conter expressões aritméticas**.\n",
        "\n",
        "**OBS**.: A precedência dos operadores relacionais é **menor** que a dos operadores aritméticos."
      ]
    },
    {
      "cell_type": "code",
      "execution_count": 2,
      "metadata": {
        "id": "zgQNfAMjw9qx",
        "outputId": "0a666eac-aad7-4718-fec9-c61e84c4cf6b",
        "colab": {
          "base_uri": "https://localhost:8080/"
        }
      },
      "outputs": [
        {
          "output_type": "stream",
          "name": "stdout",
          "text": [
            "O resultado da expressão é True\n",
            "Tipo da variável resultado: <class 'bool'>\n"
          ]
        }
      ],
      "source": [
        "resultado = 2 + 3 == 3 + 2 * 1\n",
        "\n",
        "print('O resultado da expressão é', resultado)\n",
        "\n",
        "print('Tipo da variável resultado:', type(resultado))"
      ]
    },
    {
      "cell_type": "markdown",
      "metadata": {
        "id": "WRtD9YCOw9qy"
      },
      "source": [
        "* Esse exemplo mostra que o resultado da expressão `2 + 3 == 3 + 2 * 1` é o valor booleano ```True```. \n",
        "    + Isso porque a ordem de precedência dos operadores relacionais é menor do que a dos operadores aritméticos, ou seja, as operações aritméticas são avaliadas primeiro, o que resulta na comparação `5 == 5`, em seguida, a expressão relacional `==` é avaliada, resultando em `True`."
      ]
    },
    {
      "cell_type": "markdown",
      "metadata": {
        "id": "mewUYXqdw9qz"
      },
      "source": [
        "### Tarefa\n",
        "\n",
        "1. <span style=\"color:blue\">**QUIZ - Operadores relacionais**</span>: respondam ao questionário sobre operadores relacionais no MS teams, por favor."
      ]
    },
    {
      "cell_type": "markdown",
      "metadata": {
        "id": "ol0J10Gnw9q0"
      },
      "source": [
        "## Operadores lógicos\n",
        "\n",
        "* A tabela a seguir mostra os principais operadores lógicos e suas respectivas ordens de precedência.\n",
        "* O resultado de uma expressão lógica é sempre um valor booleano.\n",
        "\n",
        "|Precedência| Operador |    Descrição   |     Exemplo    | Resultado |\n",
        "|:--------:|:--------:|:--------------:|:--------------:|:---------:|\n",
        "|3 (alta)  |    not   | negação lógica |    not True    |   False   |\n",
        "|2         |    and   |    E lógico    | True and False |   False   |\n",
        "|1 (baixa) |    or    |    OU lógico   |  True or False |    True   |\n",
        "\n",
        "### Exemplos"
      ]
    },
    {
      "cell_type": "markdown",
      "metadata": {
        "id": "cTbmj9GWw9q2"
      },
      "source": [
        "#### Negando um valor com o operador `not`."
      ]
    },
    {
      "cell_type": "code",
      "execution_count": 3,
      "metadata": {
        "id": "KGtWOH-Iw9q2",
        "outputId": "78be0dfc-138a-45b9-dffb-9efae8520dfe",
        "colab": {
          "base_uri": "https://localhost:8080/"
        }
      },
      "outputs": [
        {
          "output_type": "stream",
          "name": "stdout",
          "text": [
            "Resultado: False\n"
          ]
        }
      ],
      "source": [
        "a = not True\n",
        "\n",
        "print('Resultado:', a)"
      ]
    },
    {
      "cell_type": "markdown",
      "metadata": {
        "id": "Lti0njH6w9q3"
      },
      "source": [
        "#### Operador `and`"
      ]
    },
    {
      "cell_type": "code",
      "execution_count": 4,
      "metadata": {
        "id": "k8KvwbJHw9q3",
        "outputId": "2e39293e-9f82-4002-8ec9-43a38d77af8b",
        "colab": {
          "base_uri": "https://localhost:8080/"
        }
      },
      "outputs": [
        {
          "output_type": "stream",
          "name": "stdout",
          "text": [
            "Resultado: True\n"
          ]
        }
      ],
      "source": [
        "a = True and True\n",
        "\n",
        "print('Resultado:', a)"
      ]
    },
    {
      "cell_type": "code",
      "execution_count": 5,
      "metadata": {
        "id": "8sdv4hfPw9q3",
        "outputId": "128bbd31-b0f4-465e-df35-8d3357a85da7",
        "colab": {
          "base_uri": "https://localhost:8080/"
        }
      },
      "outputs": [
        {
          "output_type": "stream",
          "name": "stdout",
          "text": [
            "Resultado: False\n"
          ]
        }
      ],
      "source": [
        "a = True and False\n",
        "\n",
        "print('Resultado:', a)"
      ]
    },
    {
      "cell_type": "markdown",
      "metadata": {
        "id": "k4GioRW1w9q3"
      },
      "source": [
        "#### Operador `or`"
      ]
    },
    {
      "cell_type": "code",
      "execution_count": 6,
      "metadata": {
        "id": "zXhBvMXDw9q4",
        "outputId": "65582a4a-ed1a-4c13-9995-a966511b1105",
        "colab": {
          "base_uri": "https://localhost:8080/"
        }
      },
      "outputs": [
        {
          "output_type": "stream",
          "name": "stdout",
          "text": [
            "Resultado: True\n"
          ]
        }
      ],
      "source": [
        "a = True or False\n",
        "\n",
        "print('Resultado:', a)"
      ]
    },
    {
      "cell_type": "code",
      "execution_count": 7,
      "metadata": {
        "id": "jANRY6yXw9q4",
        "outputId": "8eaad41d-4300-4eb6-9fea-a42086e5200f",
        "colab": {
          "base_uri": "https://localhost:8080/"
        }
      },
      "outputs": [
        {
          "output_type": "stream",
          "name": "stdout",
          "text": [
            "Resultado: False\n"
          ]
        }
      ],
      "source": [
        "a = False or False\n",
        "\n",
        "print('Resultado:', a)"
      ]
    },
    {
      "cell_type": "markdown",
      "metadata": {
        "id": "o99dUoUsw9q4"
      },
      "source": [
        "#### Combinando resultados de operadores relacionais com operadores lógicos\n",
        "\n",
        "* Os operadores lógicos podem ser utilizados para combinar os resultados de operadores relacionais em uma **expressão lógica**.\n",
        "* Uma expressão lógica é uma expressão que pode ser verdadeira ou falsa, ou seja, sempre resulta em um valor booleano.\n",
        "* Como veremos a seguir, essa combinação de resultados de operadores relacionais é utilizada com **estruturas de controle de fluxo**.\n",
        "\n",
        "**IMPORTANTE**: os **operadores relacionais têm precedência sobre os operadores lógicos**, ou seja, eles são avaliados antes.\n",
        "\n",
        "No código abaixo testamos se o valor de uma variável está dentro de um intervalo."
      ]
    },
    {
      "cell_type": "code",
      "execution_count": 8,
      "metadata": {
        "id": "i9GMf7cmw9q5",
        "outputId": "d9a249c0-4911-4e3f-ea39-f14373b52b74",
        "colab": {
          "base_uri": "https://localhost:8080/"
        }
      },
      "outputs": [
        {
          "output_type": "stream",
          "name": "stdout",
          "text": [
            "Resultado da expressão lógica: False\n"
          ]
        }
      ],
      "source": [
        "# Seja um valor qualquer.\n",
        "x = 2\n",
        "\n",
        "# Combinando o resultado de operadores relacionais para verificar se o valor de x está no intervalo [-1, 1].\n",
        "resultado = x >= -1 and x <= 1\n",
        "\n",
        "print('Resultado da expressão lógica:', resultado)"
      ]
    },
    {
      "cell_type": "markdown",
      "metadata": {
        "id": "pLB7iL2ow9q5"
      },
      "source": [
        "Podemos ter a combinação do resultado de várias operações relacionais."
      ]
    },
    {
      "cell_type": "code",
      "execution_count": 9,
      "metadata": {
        "id": "jqwK4P-tw9q6",
        "outputId": "34179c6a-4619-44df-fcf0-bfaeaa23551a",
        "colab": {
          "base_uri": "https://localhost:8080/"
        }
      },
      "outputs": [
        {
          "output_type": "stream",
          "name": "stdout",
          "text": [
            "Resultado da expressão lógica: True\n"
          ]
        }
      ],
      "source": [
        "#            False     True       True\n",
        "resultado = 1 == 2 or 3 != 4 and 3 >= 2\n",
        "\n",
        "print('Resultado da expressão lógica:', resultado)"
      ]
    },
    {
      "cell_type": "markdown",
      "metadata": {
        "id": "vPFz997Ww9q6"
      },
      "source": [
        "### Valores avaliados como verdadeiros ou falsos\n",
        "\n",
        "* Em Python, o tipo (classe) booleano (**bool**) é uma **especialização** do tipo inteiro (**int**). \n",
        "* O valor **verdadeiro** é definido pela palavra reservada `True` e é igual ao valor **inteiro** `1`, enquanto o valor **falso** é definido pela palavra reservada `False` e é igual ao valor **inteiro** `0`.\n",
        "* Em Python, os seguintes valores e objetos são avalidados pelo interpretador como sendo valores **falsos**:\n",
        "    + `0` (zero).\n",
        "    + `None` (nulo).\n",
        "    + `''` (string vazia).\n",
        "    + `[]` (lista vazia).\n",
        "    + `()` (tupla vazia).\n",
        "    + `{}` (dicionário vazio).\n",
        "    + Outros objetos com o tamanho igual a zero.\n",
        "\n",
        "* São considerados valores **verdadeiros**, ou seja, `True`, todos os outros valores e objetos fora dessa lista.\n",
        "\n",
        "### Exemplos\n",
        "\n",
        "+ String vazia."
      ]
    },
    {
      "cell_type": "code",
      "execution_count": 10,
      "metadata": {
        "id": "i1C5VtCpw9q6",
        "outputId": "3afcf61a-f4a1-424e-b570-7582a0082f65",
        "colab": {
          "base_uri": "https://localhost:8080/"
        }
      },
      "outputs": [
        {
          "output_type": "stream",
          "name": "stdout",
          "text": [
            "A string está vazia.\n"
          ]
        }
      ],
      "source": [
        "str1 = ''\n",
        "\n",
        "# Percebam que podemos usar o objeto do tipo string diretamente na condição do if.\n",
        "if(str1):\n",
        "    print('A string não está vazia.')\n",
        "else:\n",
        "    print('A string está vazia.')"
      ]
    },
    {
      "cell_type": "markdown",
      "metadata": {
        "id": "kVNHSCWxw9q6"
      },
      "source": [
        "+ Valor igual a 0."
      ]
    },
    {
      "cell_type": "code",
      "execution_count": 11,
      "metadata": {
        "id": "adBjIgLzw9q6",
        "outputId": "b749a2ea-c435-426d-9d21-f95764800250",
        "colab": {
          "base_uri": "https://localhost:8080/"
        }
      },
      "outputs": [
        {
          "output_type": "stream",
          "name": "stdout",
          "text": [
            "Valor igual a zero.\n"
          ]
        }
      ],
      "source": [
        "valor = 0\n",
        "\n",
        "if(valor):\n",
        "    print('Valor diferente de zero.')\n",
        "else:\n",
        "    print('Valor igual a zero.')"
      ]
    },
    {
      "cell_type": "markdown",
      "metadata": {
        "id": "qvE9476hw9q7"
      },
      "source": [
        "### Tarefa\n",
        "\n",
        "1. <span style=\"color:blue\">**QUIZ - Operadores lógicos**</span>: respondam ao questionário sobre operadores lógicos no MS teams, por favor."
      ]
    },
    {
      "cell_type": "markdown",
      "metadata": {
        "id": "y4Jhg2Ttw9q7"
      },
      "source": [
        "## Operadores de associação\n",
        "\n",
        "+ Operadores de associação são usados para testar se um objeto (e.g., valor) está presente em uma coleção de objetos, como strings, listas, tuplas, etc. \n",
        "+ Os operadores de associação **têm a mesma ordem de precedência dos operadores relacionais**.\n",
        "+ Existem dois operadores de associação:\n",
        "\n",
        "| Operador |                                       Descrição                                       |       Exemplo      | Resultado |\n",
        "|:--------:|:-------------------------------------------------------------------------------------:|:------------------:|:---------:|\n",
        "|    in    |   Retorna True se o valor especificado estiver presente no objeto   |   'a' in 'abc'   |    True   |\n",
        "|  not in  | Retorna True se o valor especificado **não** estiver presente no objeto | 'a' not in 'abc' |   False   |\n",
        "\n",
        "### Exemplos"
      ]
    },
    {
      "cell_type": "code",
      "execution_count": 12,
      "metadata": {
        "id": "1gFfcFKZw9q7",
        "outputId": "da7c1812-b20e-4996-c8f2-ec6c78275df6",
        "colab": {
          "base_uri": "https://localhost:8080/"
        }
      },
      "outputs": [
        {
          "output_type": "stream",
          "name": "stdout",
          "text": [
            "False\n"
          ]
        }
      ],
      "source": [
        "# Seja uma string (sequência de caracteres).\n",
        "string = 'UNIMATER'\n",
        "\n",
        "# O caractere 'B' está presente na string 'UNIMATER'?\n",
        "resultado = 'B' in string\n",
        "\n",
        "print(resultado)"
      ]
    },
    {
      "cell_type": "code",
      "execution_count": 13,
      "metadata": {
        "id": "2a8x2fMQw9q7",
        "outputId": "33e903c6-6437-456b-ebdf-c2a6bd5fd72f",
        "colab": {
          "base_uri": "https://localhost:8080/"
        }
      },
      "outputs": [
        {
          "output_type": "stream",
          "name": "stdout",
          "text": [
            "True\n"
          ]
        }
      ],
      "source": [
        "# Seja uma lista (sequência de objetos) com duas strings.\n",
        "x = [\"apple\", \"banana\"]\n",
        "\n",
        "# A string banana está presente na lista?\n",
        "resultado = \"banana\" in x\n",
        "\n",
        "print(resultado)"
      ]
    },
    {
      "cell_type": "code",
      "execution_count": 14,
      "metadata": {
        "id": "yVvC5oQbw9q7",
        "outputId": "62dfdc94-9c7e-4622-f321-cbca8d97a1c7",
        "colab": {
          "base_uri": "https://localhost:8080/"
        }
      },
      "outputs": [
        {
          "output_type": "stream",
          "name": "stdout",
          "text": [
            "True\n"
          ]
        }
      ],
      "source": [
        "# Seja uma lista (sequência de objetos) com duas strings.\n",
        "x = [\"apple\", \"banana\"]\n",
        "\n",
        "# A string pineapple não está presente na lista?\n",
        "resultado = \"pineapple\" not in x\n",
        "\n",
        "print(resultado)"
      ]
    },
    {
      "cell_type": "markdown",
      "metadata": {
        "id": "Gzaey1Dmw9q8"
      },
      "source": [
        "## Ordem de precedência atualizada\n",
        "\n",
        "+ Nós adicionamos vários outros operadores àqueles que aprendemos.\n",
        "+ A tabela a seguir resume a precedência dos operadores discutidos até agora, da mais alta para a mais baixa.\n",
        "\n",
        "|   Nível  |   Categoria   |            Operadores            |\n",
        "|:--------:|:-------------:|:--------------------------------:|\n",
        "| 8 (alta) |   parênteses  |                ()                |\n",
        "|     7    |    expoente   |                **                |\n",
        "|     6    | multiplicação, divisão, resto |            *, /, //, %           |\n",
        "|     5    |     adição, subtração    |               +, -               |\n",
        "|     4    |   relacional/associação  | ==, !=, <=, >=, >, <, in, not in |\n",
        "|     3    |     lógico    |                not               |\n",
        "|     2    |     lógico    |                and               |\n",
        "| 1(baixa) |     lógico    |                or                |\n",
        "\n",
        "**IMPORTANTE**: Operadores com mesmo nível de precedência são aplicados da **esquerda para a direita** na ordem em que aparecem na expressão."
      ]
    },
    {
      "cell_type": "markdown",
      "metadata": {
        "id": "a_y9N69tw9q8"
      },
      "source": [
        "### Tarefa\n",
        "\n",
        "1. <span style=\"color:blue\">**QUIZ - Ordem de precedência**</span>: respondam ao questionário sobre ordem de precedência no MS teams, por favor."
      ]
    },
    {
      "cell_type": "markdown",
      "metadata": {
        "id": "nD0Lsarlw9q8"
      },
      "source": [
        "## Controle de fluxo\n",
        "\n",
        "* É muito comum que durante a escrita de um programa você precise verificar se a condição de uma expressão é verdadeira ou falsa para executar ou não uma sequência de instruções. \n",
        "* Isto é feito utilizando-se **estruturas de controle de fluxo**, também conhecidas como **estruturas condicionais**.\n",
        "* Portanto, estruturas de **controle de fluxo** verificam uma condição e executam um bloco de código caso a condição seja verdadeira ou outro bloco caso seja falsa.\n",
        "\n",
        "Sintaxe:\n",
        "\n",
        "```python\n",
        "if <condição 1>:\n",
        "    <bloco de código 1>\n",
        "elif <condição 2>: # opcional\n",
        "    <bloco de código 2>\n",
        "elif <condição 3>: # opcional\n",
        "    <bloco de código 3>\n",
        "else:              # opcional\n",
        "    <bloco de código 4>\n",
        "```\n",
        "        \n",
        "Onde:\n",
        "\n",
        "+ `<condição>`: expressão que possa ser avaliada como verdadeira ou falsa.\n",
        "+ `<bloco de código>`: sequência de instruções que são executadas caso a condição associada seja verdadeira.\n",
        "    + um `<bloco de código>` pode ter mais de uma instrução, dado que o bloco de código esteja **corretamente indentado**.\n",
        "+ A palavra-reservada `elif` é a junção de `else` e `if` e significa: \"se as condições anteriores não eram verdadeiras, então verifique esta condição\".\n",
        "+ As clausulas `elif` e `else` são opcionais, podendo existir vários `elif`s para o mesmo `if`, porém só pode haver um `else` ao final.\n",
        "+ A palavra-reservada `else` captura qualquer condição que não tenha sido capturada pelas condições anteriores.\n",
        "+ Parênteses em torno das condições são opcionais e são normalmente usados para evitar ambiguidades.\n",
        "+ Não se esqueçam dos dois pontos (`:`) após as condições dos `if` e `elif`s e da palavra-reservada `else`. \n",
        "\n",
        "A figura abaixo apresenta o fluxograma da estrutura condicional mostrada na sintaxe acima.\n",
        "\n",
        "<img src=\"https://github.com/zz4fap/python-programming/blob/master/figures/if-flowchart.jpg?raw=1\" width=\"300px\">"
      ]
    },
    {
      "cell_type": "markdown",
      "metadata": {
        "id": "MptZ7Q7Aw9q8"
      },
      "source": [
        "### Exemplo\n",
        "\n",
        "#### Uma função que imprime como está a temperatura."
      ]
    },
    {
      "cell_type": "code",
      "execution_count": 15,
      "metadata": {
        "id": "0lwsYItPw9q8",
        "outputId": "8c34d5a6-ad8f-4303-a250-5f1b01fb45a4",
        "colab": {
          "base_uri": "https://localhost:8080/"
        }
      },
      "outputs": [
        {
          "output_type": "stream",
          "name": "stdout",
          "text": [
            "Temperatura: normal\n"
          ]
        }
      ],
      "source": [
        "# Definição da função.\n",
        "def checarTemperatura(temp):\n",
        "    '''Função que imprime como está a temperatura.'''\n",
        "    # Nível 1 de indentação.\n",
        "    if temp < 0:\n",
        "        # Nível 2 de indentação.\n",
        "        print('Temperatura: congelando...')\n",
        "    elif temp >= 0 and temp <= 20:\n",
        "        print('Temperatura: frio')\n",
        "    elif temp >= 21 and temp <= 25:\n",
        "        print('Temperatura: normal')\n",
        "    elif temp >= 26 and temp <= 35:\n",
        "        print('Temperatura: quente')\n",
        "    else:\n",
        "        print('Temperatura: muito quente!')\n",
        "        \n",
        "# Valor de temperatura usado para teste.\n",
        "temp = 23\n",
        "checarTemperatura(temp)"
      ]
    },
    {
      "cell_type": "markdown",
      "metadata": {
        "id": "v-hAMyGbw9q9"
      },
      "source": [
        "### Tarefa\n",
        "\n",
        "1. <span style=\"color:blue\">**QUIZ - Controle de fluxo**</span>: respondam ao questionário sobre controle de fluxo no MS teams, por favor."
      ]
    },
    {
      "cell_type": "markdown",
      "metadata": {
        "id": "dpY7pIKlw9q9"
      },
      "source": [
        "## Laços de repetição\n",
        "\n",
        "* Laços de repetição são **estruturas que permitem a reexecução de um mesmo bloco de código**.\n",
        "* Eles podem ser usados para **processar sequências ou coleções de dados**, tais como as linhas de um arquivo, registros de um banco de dados, caracteres de uma string, elementos de listas, tuplas, dicionários, etc., **com o mesmo bloco de código** (ou seja, com uma mesma sequência de comandos).\n",
        "* Em Python, temos apenas 2 tipos de laços de repetição: `for` e `while`.\n",
        "\n",
        "### O laço `for`\n",
        "\n",
        "* O laço `for` permite percorrer os elementos de uma coleção ou sequência de dados e, para cada um deles, executar o **mesmo bloco de código** declarado no laço.\n",
        "+ Se caracteriza por obrigar o programador a definir, explicitamente em seu cabeçalho, a quantidade de vezes, chamadas de **repetições**, que um bloco de código será executado. \n",
        "+ O número de **repetições** é determinado pela **quantidade de elementos contidos na coleção/sequência de dados** declarada no cabeçalho do laço. \n",
        "+ Desta forma, uma **repetição** do bloco de código é executada para cada elemento da coleção/sequência de dados.\n",
        "\n",
        "* Sintaxe:\n",
        "\n",
        "```python\n",
        "for <referência> in <objeto iterável>:\n",
        "    <bloco de código>\n",
        "    break # opcional\n",
        "    continue # opcional\n",
        "else: # opcional\n",
        "    <bloco de código>\n",
        "```\n",
        "\n",
        "* Onde\n",
        "    +  `referência` recebe um novo elemento da coleção/sequência de dados (i.e., do `objeto iterável`) a cada nova iteração do laço.\n",
        "    + `objeto iterável` pode ser um objeto do tipo lista, tupla, dicionário, file, range, etc.\n",
        "    + A cláusula `break` interrompe o laço antes que ele percorra todos os itens da lista, é **opcional**.\n",
        "    + A cláusula `continue` interrompe a execução do bloco de código e passa para a próxima iteração, é **opcional**.\n",
        "    + O bloco de código dentro do `else` é **sempre** executado ao final do laço, a não ser que o laço tenha sido interrompido por um `break`.\n",
        "    + A instrução `else` também é **opcional**.\n",
        "            \n",
        "### Exemplos\n",
        "\n",
        "#### Imprimindo os nomes armazenados em uma lista.\n",
        "\n",
        "**IMPORTANTE**: Uma lista é um `objeto iterável`, ou seja, podemos utilizá-la no laço `for` e a cada nova iteração, ela retorna um de seus elementos."
      ]
    },
    {
      "cell_type": "code",
      "execution_count": 16,
      "metadata": {
        "id": "96NoIpxAw9q9",
        "outputId": "39557757-2de2-49da-ca11-2581643f2be9",
        "colab": {
          "base_uri": "https://localhost:8080/"
        }
      },
      "outputs": [
        {
          "output_type": "stream",
          "name": "stdout",
          "text": [
            "Pedro\n",
            "João\n",
            "Leticia\n",
            "Sempre executa o bloco de código do else caso um break não tenha ocorrido.\n"
          ]
        }
      ],
      "source": [
        "# Lista com 3 itens do tipo string.\n",
        "nomes = ['Pedro', 'João', 'Leticia']\n",
        "\n",
        "# Para cada elemento do objeto iterável do tipo lista faça.\n",
        "for n in nomes:\n",
        "     print(n) # bloco de código\n",
        "else:\n",
        "    print('Sempre executa o bloco de código do else caso um break não tenha ocorrido.')"
      ]
    },
    {
      "cell_type": "markdown",
      "metadata": {
        "id": "0UnC6Dr3w9q9"
      },
      "source": [
        "#### Somando todos os valores de 0 a 99."
      ]
    },
    {
      "cell_type": "code",
      "execution_count": 17,
      "metadata": {
        "id": "7rZj8qhPw9q9",
        "outputId": "8359e768-5536-4c57-ab65-7b2a12a98211",
        "colab": {
          "base_uri": "https://localhost:8080/"
        }
      },
      "outputs": [
        {
          "output_type": "stream",
          "name": "stdout",
          "text": [
            "Resultado: 4950\n"
          ]
        }
      ],
      "source": [
        "# Variável auxiliar utilizada para acumular os valores.\n",
        "soma = 0\n",
        "\n",
        "# Para cada elemento do objeto iterável do tipo lista faça.\n",
        "for i in range(0, 100):\n",
        "    soma = soma + i\n",
        "\n",
        "# Imprime resulatdo da soma.\n",
        "print('Resultado:', soma)"
      ]
    },
    {
      "cell_type": "markdown",
      "metadata": {
        "id": "hLwu809Sw9q-"
      },
      "source": [
        "**IMPORTANTE**: a função embutida `range(m, n, p)` é muito útil em laços de repetição, pois retorna uma sequência de valores inteiros (`objeto iterável`), começando em `m` e **menores** que `n`, em passos de tamanho `p`, que podem ser usados como sequência para o laço.\n",
        "   + Por padrão, ou seja, se não for definido, `p` é igual a 1.\n",
        "\n",
        "### Exemplos\n",
        "\n",
        "#### Contagem em passos de 2."
      ]
    },
    {
      "cell_type": "code",
      "execution_count": 18,
      "metadata": {
        "id": "2brGNXHkw9q-",
        "outputId": "904ce753-c77a-40b4-8cb4-c46dfafae7be",
        "colab": {
          "base_uri": "https://localhost:8080/"
        }
      },
      "outputs": [
        {
          "output_type": "stream",
          "name": "stdout",
          "text": [
            "0\n",
            "2\n",
            "4\n",
            "6\n",
            "8\n"
          ]
        }
      ],
      "source": [
        "for i in range(0, 10, 2):\n",
        "    print(i)"
      ]
    },
    {
      "cell_type": "markdown",
      "metadata": {
        "id": "4FV9QiQlw9q-"
      },
      "source": [
        "#### Contagem regressiva de 2 a -2."
      ]
    },
    {
      "cell_type": "code",
      "execution_count": 19,
      "metadata": {
        "id": "lUQnMnqOw9q_",
        "outputId": "41334246-13d5-4a23-b39d-e6a8fea5e814",
        "colab": {
          "base_uri": "https://localhost:8080/"
        }
      },
      "outputs": [
        {
          "output_type": "stream",
          "name": "stdout",
          "text": [
            "2\n",
            "1\n",
            "0\n",
            "-1\n",
            "-2\n"
          ]
        }
      ],
      "source": [
        "for i in range(2, -3, -1):\n",
        "    print(i)"
      ]
    },
    {
      "cell_type": "markdown",
      "metadata": {
        "id": "_0XPLELYw9q_"
      },
      "source": [
        "#### Iterando através de uma lista usando índices.\n",
        "\n",
        "Podemos também percorrer os elementos de uma lista usando seus índices.\n",
        "\n",
        "**IMPORTANTE**: Podemos acessar cada um dos elementos da lista através do seu índice."
      ]
    },
    {
      "cell_type": "code",
      "execution_count": 20,
      "metadata": {
        "id": "-ssP7gDvw9q_",
        "outputId": "f0871b66-48b2-4147-a6bc-5b8740fa318e",
        "colab": {
          "base_uri": "https://localhost:8080/"
        }
      },
      "outputs": [
        {
          "output_type": "stream",
          "name": "stdout",
          "text": [
            "Pedro\n",
            "João\n",
            "Letícia\n"
          ]
        }
      ],
      "source": [
        "# Lista com 3 itens do tipo string.\n",
        "nomes = ['Pedro', 'João', 'Letícia']\n",
        "\n",
        "# Para cada elemento do objeto iterável do tipo lista faça.\n",
        "for i in range(0, len(nomes)):\n",
        "     print(nomes[i])"
      ]
    },
    {
      "cell_type": "markdown",
      "metadata": {
        "id": "hDpTxH7Nw9q_"
      },
      "source": [
        "### O laço `while`\n",
        " \n",
        "+ Executa o bloco de código dentro do laço `while` **enquanto** uma dada **condição for verdadeira**.\n",
        "+ É mais adequado quando não há como determinar quantas **iterações** vão ocorrer.\n",
        "\n",
        "\n",
        "* Sintaxe:\n",
        "\n",
        "```python\n",
        "while <condição>:\n",
        "    <bloco de código>\n",
        "    continue # opcional\n",
        "    break # opcional\n",
        "else: # opcional\n",
        "    <bloco de código>\n",
        "```\n",
        "\n",
        "* Onde\n",
        "    + Enquanto a `condição` for verdadeira, o bloco de código é excutado.\n",
        "    + A instrução `else` executa o bloco de código apenas uma vez, quando a condição do `while` não for mais verdadeira.\n",
        "    + O bloco de código do `else` não é executado se o laço for interrompido por um `break`.\n",
        "    + A instrução `else` é opcional.\n",
        "        \n",
        "**OBS.1**: Deve haver algum processo dentro do bloco de código que torne a condição falsa e o laço seja encerrado, ou um erro GRAVE ocorrerá: seu código ficará preso no laço para sempre.\n",
        "\n",
        "**OBS.2**: Se a condição da estrutura `while` já for falsa desde o início, o bloco de código associado a ela nunca será executado. Neste caso, apenas o bloco de código associado ao `else` será executado, caso ele esteja definido.\n",
        "\n",
        "### Exemplos\n",
        "\n",
        "#### Iterando através de uma lista."
      ]
    },
    {
      "cell_type": "code",
      "execution_count": 21,
      "metadata": {
        "id": "xCK70wWOw9q_",
        "outputId": "26f2d935-21f7-4b47-880a-67a99346f49e",
        "colab": {
          "base_uri": "https://localhost:8080/"
        }
      },
      "outputs": [
        {
          "output_type": "stream",
          "name": "stdout",
          "text": [
            "Pedro\n",
            "João\n",
            "Leticia\n",
            "Sempre executa o bloco de código do else caso um break não tenha ocorrido.\n"
          ]
        }
      ],
      "source": [
        "# Lista com 3 itens do tipo string.\n",
        "nomes = ['Pedro', 'João', 'Leticia']\n",
        "\n",
        "# Variável auxiliar usada para contar as iterações e terminar o laço.\n",
        "i = 0\n",
        "\n",
        "# While precisa de uma condição para terminar a execução do bloco de código.\n",
        "while i < len(nomes):\n",
        "    print(nomes[i])\n",
        "    i += 1 # Forma compacta, o mesmo que fazer i = i + 1\n",
        "else:\n",
        "    print('Sempre executa o bloco de código do else caso um break não tenha ocorrido.')"
      ]
    },
    {
      "cell_type": "markdown",
      "metadata": {
        "id": "k_NKb8p6w9rA"
      },
      "source": [
        "#### Somando todos os valores de 0 a 99."
      ]
    },
    {
      "cell_type": "code",
      "execution_count": 22,
      "metadata": {
        "scrolled": true,
        "id": "SLLaeTrgw9rA",
        "outputId": "69b2b3dc-8436-4201-bb1a-a4ba5872d9f1",
        "colab": {
          "base_uri": "https://localhost:8080/"
        }
      },
      "outputs": [
        {
          "output_type": "stream",
          "name": "stdout",
          "text": [
            "Resultado: 4950\n"
          ]
        }
      ],
      "source": [
        "# Variável auxiliar usada para contar as iterações e terminar o laço.\n",
        "i = 0\n",
        "\n",
        "# Variável auxiliar utilizada para acumular os valores.\n",
        "soma = 0\n",
        "\n",
        "# Enquanto x for menor do que 100 faça.\n",
        "while i < 100:\n",
        "    soma = soma + i\n",
        "    i += 1\n",
        "\n",
        "# Imprime resultado da soma.\n",
        "print('Resultado:', soma)"
      ]
    }
  ],
  "metadata": {
    "kernelspec": {
      "display_name": "Python 3 (ipykernel)",
      "language": "python",
      "name": "python3"
    },
    "language_info": {
      "codemirror_mode": {
        "name": "ipython",
        "version": 3
      },
      "file_extension": ".py",
      "mimetype": "text/x-python",
      "name": "python",
      "nbconvert_exporter": "python",
      "pygments_lexer": "ipython3",
      "version": "3.9.13"
    },
    "colab": {
      "provenance": [],
      "include_colab_link": true
    }
  },
  "nbformat": 4,
  "nbformat_minor": 0
}